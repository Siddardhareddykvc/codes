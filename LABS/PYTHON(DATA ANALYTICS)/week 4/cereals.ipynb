{
 "cells": [
  {
   "cell_type": "code",
   "execution_count": 71,
   "id": "ea7f51c2",
   "metadata": {},
   "outputs": [],
   "source": [
    "#cereals"
   ]
  },
  {
   "cell_type": "code",
   "execution_count": 154,
   "id": "65bddcf6",
   "metadata": {},
   "outputs": [],
   "source": [
    "import pandas as pd\n",
    "import numpy as np\n",
    "import seaborn as sbs"
   ]
  },
  {
   "cell_type": "code",
   "execution_count": 155,
   "id": "49cb60f3",
   "metadata": {},
   "outputs": [],
   "source": [
    "d=pd.read_csv(\"Cereals.csv\")"
   ]
  },
  {
   "cell_type": "code",
   "execution_count": 156,
   "id": "6b7e9ef4",
   "metadata": {},
   "outputs": [
    {
     "data": {
      "text/html": [
       "<div>\n",
       "<style scoped>\n",
       "    .dataframe tbody tr th:only-of-type {\n",
       "        vertical-align: middle;\n",
       "    }\n",
       "\n",
       "    .dataframe tbody tr th {\n",
       "        vertical-align: top;\n",
       "    }\n",
       "\n",
       "    .dataframe thead th {\n",
       "        text-align: right;\n",
       "    }\n",
       "</style>\n",
       "<table border=\"1\" class=\"dataframe\">\n",
       "  <thead>\n",
       "    <tr style=\"text-align: right;\">\n",
       "      <th></th>\n",
       "      <th>name</th>\n",
       "      <th>mfr</th>\n",
       "      <th>type</th>\n",
       "      <th>calories</th>\n",
       "      <th>protein</th>\n",
       "      <th>fat</th>\n",
       "      <th>sodium</th>\n",
       "      <th>fiber</th>\n",
       "      <th>carbo</th>\n",
       "      <th>sugars</th>\n",
       "      <th>potass</th>\n",
       "      <th>vitamins</th>\n",
       "      <th>shelf</th>\n",
       "      <th>weight</th>\n",
       "      <th>cups</th>\n",
       "      <th>rating</th>\n",
       "    </tr>\n",
       "  </thead>\n",
       "  <tbody>\n",
       "    <tr>\n",
       "      <th>0</th>\n",
       "      <td>100NaturalBran</td>\n",
       "      <td>Q</td>\n",
       "      <td>C</td>\n",
       "      <td>120.0</td>\n",
       "      <td>3.0</td>\n",
       "      <td>5.0</td>\n",
       "      <td>15.0</td>\n",
       "      <td>2.0</td>\n",
       "      <td>8.00</td>\n",
       "      <td>8.00</td>\n",
       "      <td>135.00</td>\n",
       "      <td>0.0</td>\n",
       "      <td>3.0</td>\n",
       "      <td>1.0</td>\n",
       "      <td>1.00</td>\n",
       "      <td>33.98</td>\n",
       "    </tr>\n",
       "    <tr>\n",
       "      <th>1</th>\n",
       "      <td>All-Bran</td>\n",
       "      <td>K</td>\n",
       "      <td>C</td>\n",
       "      <td>70.0</td>\n",
       "      <td>4.0</td>\n",
       "      <td>1.0</td>\n",
       "      <td>260.0</td>\n",
       "      <td>9.0</td>\n",
       "      <td>7.00</td>\n",
       "      <td>5.00</td>\n",
       "      <td>320.00</td>\n",
       "      <td>25.0</td>\n",
       "      <td>3.0</td>\n",
       "      <td>1.0</td>\n",
       "      <td>0.33</td>\n",
       "      <td>59.43</td>\n",
       "    </tr>\n",
       "    <tr>\n",
       "      <th>2</th>\n",
       "      <td>All-BranwithExtraFiber</td>\n",
       "      <td>K</td>\n",
       "      <td>C</td>\n",
       "      <td>50.0</td>\n",
       "      <td>4.0</td>\n",
       "      <td>0.0</td>\n",
       "      <td>140.0</td>\n",
       "      <td>14.0</td>\n",
       "      <td>8.00</td>\n",
       "      <td>0.00</td>\n",
       "      <td>330.00</td>\n",
       "      <td>25.0</td>\n",
       "      <td>3.0</td>\n",
       "      <td>1.0</td>\n",
       "      <td>0.50</td>\n",
       "      <td>93.70</td>\n",
       "    </tr>\n",
       "    <tr>\n",
       "      <th>3</th>\n",
       "      <td>AlmondDelight</td>\n",
       "      <td>R</td>\n",
       "      <td>C</td>\n",
       "      <td>110.0</td>\n",
       "      <td>2.0</td>\n",
       "      <td>2.0</td>\n",
       "      <td>200.0</td>\n",
       "      <td>1.0</td>\n",
       "      <td>14.00</td>\n",
       "      <td>8.00</td>\n",
       "      <td>?</td>\n",
       "      <td>25.0</td>\n",
       "      <td>3.0</td>\n",
       "      <td>1.0</td>\n",
       "      <td>0.75</td>\n",
       "      <td>34.38</td>\n",
       "    </tr>\n",
       "    <tr>\n",
       "      <th>4</th>\n",
       "      <td>AppleCinnamonCheerios</td>\n",
       "      <td>G</td>\n",
       "      <td>C</td>\n",
       "      <td>110.0</td>\n",
       "      <td>2.0</td>\n",
       "      <td>2.0</td>\n",
       "      <td>180.0</td>\n",
       "      <td>1.5</td>\n",
       "      <td>10.50</td>\n",
       "      <td>10.00</td>\n",
       "      <td>70.00</td>\n",
       "      <td>25.0</td>\n",
       "      <td>1.0</td>\n",
       "      <td>1.0</td>\n",
       "      <td>0.75</td>\n",
       "      <td>29.51</td>\n",
       "    </tr>\n",
       "    <tr>\n",
       "      <th>...</th>\n",
       "      <td>...</td>\n",
       "      <td>...</td>\n",
       "      <td>...</td>\n",
       "      <td>...</td>\n",
       "      <td>...</td>\n",
       "      <td>...</td>\n",
       "      <td>...</td>\n",
       "      <td>...</td>\n",
       "      <td>...</td>\n",
       "      <td>...</td>\n",
       "      <td>...</td>\n",
       "      <td>...</td>\n",
       "      <td>...</td>\n",
       "      <td>...</td>\n",
       "      <td>...</td>\n",
       "      <td>...</td>\n",
       "    </tr>\n",
       "    <tr>\n",
       "      <th>71</th>\n",
       "      <td>Triples</td>\n",
       "      <td>G</td>\n",
       "      <td>C</td>\n",
       "      <td>110.0</td>\n",
       "      <td>2.0</td>\n",
       "      <td>1.0</td>\n",
       "      <td>250.0</td>\n",
       "      <td>0.0</td>\n",
       "      <td>21.00</td>\n",
       "      <td>3.00</td>\n",
       "      <td>60.00</td>\n",
       "      <td>25.0</td>\n",
       "      <td>3.0</td>\n",
       "      <td>1.0</td>\n",
       "      <td>0.75</td>\n",
       "      <td>39.11</td>\n",
       "    </tr>\n",
       "    <tr>\n",
       "      <th>72</th>\n",
       "      <td>Trix</td>\n",
       "      <td>G</td>\n",
       "      <td>C</td>\n",
       "      <td>110.0</td>\n",
       "      <td>1.0</td>\n",
       "      <td>1.0</td>\n",
       "      <td>140.0</td>\n",
       "      <td>0.0</td>\n",
       "      <td>13.00</td>\n",
       "      <td>12.00</td>\n",
       "      <td>25.00</td>\n",
       "      <td>25.0</td>\n",
       "      <td>2.0</td>\n",
       "      <td>1.0</td>\n",
       "      <td>1.00</td>\n",
       "      <td>27.75</td>\n",
       "    </tr>\n",
       "    <tr>\n",
       "      <th>73</th>\n",
       "      <td>WheatChex</td>\n",
       "      <td>R</td>\n",
       "      <td>C</td>\n",
       "      <td>100.0</td>\n",
       "      <td>3.0</td>\n",
       "      <td>1.0</td>\n",
       "      <td>230.0</td>\n",
       "      <td>3.0</td>\n",
       "      <td>17.00</td>\n",
       "      <td>3.00</td>\n",
       "      <td>115.00</td>\n",
       "      <td>25.0</td>\n",
       "      <td>1.0</td>\n",
       "      <td>1.0</td>\n",
       "      <td>0.67</td>\n",
       "      <td>49.79</td>\n",
       "    </tr>\n",
       "    <tr>\n",
       "      <th>74</th>\n",
       "      <td>Wheaties</td>\n",
       "      <td>G</td>\n",
       "      <td>C</td>\n",
       "      <td>100.0</td>\n",
       "      <td>3.0</td>\n",
       "      <td>1.0</td>\n",
       "      <td>200.0</td>\n",
       "      <td>3.0</td>\n",
       "      <td>17.00</td>\n",
       "      <td>3.00</td>\n",
       "      <td>110.00</td>\n",
       "      <td>25.0</td>\n",
       "      <td>1.0</td>\n",
       "      <td>1.0</td>\n",
       "      <td>1.00</td>\n",
       "      <td>51.59</td>\n",
       "    </tr>\n",
       "    <tr>\n",
       "      <th>75</th>\n",
       "      <td>WheatiesHoneyGold</td>\n",
       "      <td>G</td>\n",
       "      <td>C</td>\n",
       "      <td>110.0</td>\n",
       "      <td>2.0</td>\n",
       "      <td>1.0</td>\n",
       "      <td>200.0</td>\n",
       "      <td>1.0</td>\n",
       "      <td>16.00</td>\n",
       "      <td>8.00</td>\n",
       "      <td>60.00</td>\n",
       "      <td>25.0</td>\n",
       "      <td>1.0</td>\n",
       "      <td>1.0</td>\n",
       "      <td>0.75</td>\n",
       "      <td>36.19</td>\n",
       "    </tr>\n",
       "  </tbody>\n",
       "</table>\n",
       "<p>76 rows × 16 columns</p>\n",
       "</div>"
      ],
      "text/plain": [
       "                      name mfr type  calories  protein  fat  sodium  fiber  \\\n",
       "0           100NaturalBran   Q    C     120.0      3.0  5.0    15.0    2.0   \n",
       "1                 All-Bran   K    C      70.0      4.0  1.0   260.0    9.0   \n",
       "2   All-BranwithExtraFiber   K    C      50.0      4.0  0.0   140.0   14.0   \n",
       "3            AlmondDelight   R    C     110.0      2.0  2.0   200.0    1.0   \n",
       "4    AppleCinnamonCheerios   G    C     110.0      2.0  2.0   180.0    1.5   \n",
       "..                     ...  ..  ...       ...      ...  ...     ...    ...   \n",
       "71                 Triples   G    C     110.0      2.0  1.0   250.0    0.0   \n",
       "72                    Trix   G    C     110.0      1.0  1.0   140.0    0.0   \n",
       "73               WheatChex   R    C     100.0      3.0  1.0   230.0    3.0   \n",
       "74                Wheaties   G    C     100.0      3.0  1.0   200.0    3.0   \n",
       "75       WheatiesHoneyGold   G    C     110.0      2.0  1.0   200.0    1.0   \n",
       "\n",
       "    carbo sugars  potass  vitamins  shelf  weight  cups  rating  \n",
       "0    8.00   8.00  135.00       0.0    3.0     1.0  1.00   33.98  \n",
       "1    7.00   5.00  320.00      25.0    3.0     1.0  0.33   59.43  \n",
       "2    8.00   0.00  330.00      25.0    3.0     1.0  0.50   93.70  \n",
       "3   14.00   8.00       ?      25.0    3.0     1.0  0.75   34.38  \n",
       "4   10.50  10.00   70.00      25.0    1.0     1.0  0.75   29.51  \n",
       "..    ...    ...     ...       ...    ...     ...   ...     ...  \n",
       "71  21.00   3.00   60.00      25.0    3.0     1.0  0.75   39.11  \n",
       "72  13.00  12.00   25.00      25.0    2.0     1.0  1.00   27.75  \n",
       "73  17.00   3.00  115.00      25.0    1.0     1.0  0.67   49.79  \n",
       "74  17.00   3.00  110.00      25.0    1.0     1.0  1.00   51.59  \n",
       "75  16.00   8.00   60.00      25.0    1.0     1.0  0.75   36.19  \n",
       "\n",
       "[76 rows x 16 columns]"
      ]
     },
     "execution_count": 156,
     "metadata": {},
     "output_type": "execute_result"
    }
   ],
   "source": [
    "d"
   ]
  },
  {
   "cell_type": "code",
   "execution_count": 157,
   "id": "ed073e5a",
   "metadata": {},
   "outputs": [],
   "source": [
    "#Q1. Create a table with the 5-number summary of all the nutrient"
   ]
  },
  {
   "cell_type": "code",
   "execution_count": 158,
   "id": "8db092a9",
   "metadata": {
    "scrolled": false
   },
   "outputs": [
    {
     "data": {
      "text/html": [
       "<div>\n",
       "<style scoped>\n",
       "    .dataframe tbody tr th:only-of-type {\n",
       "        vertical-align: middle;\n",
       "    }\n",
       "\n",
       "    .dataframe tbody tr th {\n",
       "        vertical-align: top;\n",
       "    }\n",
       "\n",
       "    .dataframe thead th {\n",
       "        text-align: right;\n",
       "    }\n",
       "</style>\n",
       "<table border=\"1\" class=\"dataframe\">\n",
       "  <thead>\n",
       "    <tr style=\"text-align: right;\">\n",
       "      <th></th>\n",
       "      <th>protein</th>\n",
       "      <th>fat</th>\n",
       "      <th>sodium</th>\n",
       "      <th>fiber</th>\n",
       "      <th>vitamins</th>\n",
       "    </tr>\n",
       "  </thead>\n",
       "  <tbody>\n",
       "    <tr>\n",
       "      <th>count</th>\n",
       "      <td>76.000000</td>\n",
       "      <td>76.000000</td>\n",
       "      <td>76.000000</td>\n",
       "      <td>76.000000</td>\n",
       "      <td>76.000000</td>\n",
       "    </tr>\n",
       "    <tr>\n",
       "      <th>mean</th>\n",
       "      <td>2.526316</td>\n",
       "      <td>1.013158</td>\n",
       "      <td>160.065789</td>\n",
       "      <td>2.048684</td>\n",
       "      <td>28.289474</td>\n",
       "    </tr>\n",
       "    <tr>\n",
       "      <th>std</th>\n",
       "      <td>1.089020</td>\n",
       "      <td>1.013159</td>\n",
       "      <td>84.318813</td>\n",
       "      <td>2.219038</td>\n",
       "      <td>22.487813</td>\n",
       "    </tr>\n",
       "    <tr>\n",
       "      <th>min</th>\n",
       "      <td>1.000000</td>\n",
       "      <td>0.000000</td>\n",
       "      <td>0.000000</td>\n",
       "      <td>0.000000</td>\n",
       "      <td>0.000000</td>\n",
       "    </tr>\n",
       "    <tr>\n",
       "      <th>25%</th>\n",
       "      <td>2.000000</td>\n",
       "      <td>0.000000</td>\n",
       "      <td>132.500000</td>\n",
       "      <td>0.750000</td>\n",
       "      <td>25.000000</td>\n",
       "    </tr>\n",
       "    <tr>\n",
       "      <th>50%</th>\n",
       "      <td>2.500000</td>\n",
       "      <td>1.000000</td>\n",
       "      <td>180.000000</td>\n",
       "      <td>1.750000</td>\n",
       "      <td>25.000000</td>\n",
       "    </tr>\n",
       "    <tr>\n",
       "      <th>75%</th>\n",
       "      <td>3.000000</td>\n",
       "      <td>2.000000</td>\n",
       "      <td>212.500000</td>\n",
       "      <td>3.000000</td>\n",
       "      <td>25.000000</td>\n",
       "    </tr>\n",
       "    <tr>\n",
       "      <th>max</th>\n",
       "      <td>6.000000</td>\n",
       "      <td>5.000000</td>\n",
       "      <td>320.000000</td>\n",
       "      <td>14.000000</td>\n",
       "      <td>100.000000</td>\n",
       "    </tr>\n",
       "  </tbody>\n",
       "</table>\n",
       "</div>"
      ],
      "text/plain": [
       "         protein        fat      sodium      fiber    vitamins\n",
       "count  76.000000  76.000000   76.000000  76.000000   76.000000\n",
       "mean    2.526316   1.013158  160.065789   2.048684   28.289474\n",
       "std     1.089020   1.013159   84.318813   2.219038   22.487813\n",
       "min     1.000000   0.000000    0.000000   0.000000    0.000000\n",
       "25%     2.000000   0.000000  132.500000   0.750000   25.000000\n",
       "50%     2.500000   1.000000  180.000000   1.750000   25.000000\n",
       "75%     3.000000   2.000000  212.500000   3.000000   25.000000\n",
       "max     6.000000   5.000000  320.000000  14.000000  100.000000"
      ]
     },
     "execution_count": 158,
     "metadata": {},
     "output_type": "execute_result"
    }
   ],
   "source": [
    "d[[\"protein\",\"fat\",\"sodium\",\"fiber\",\"carbo\",\"sugars\",\"potass\",\"vitamins\"]].describe()"
   ]
  },
  {
   "cell_type": "code",
   "execution_count": 159,
   "id": "0270e175",
   "metadata": {},
   "outputs": [],
   "source": [
    "#Q2. For each of the numeric attributes (proteins upto vitamins), identify and replace all missing  \n",
    "#data(indicated with ?) with the arithmetic mean of the attribute."
   ]
  },
  {
   "cell_type": "code",
   "execution_count": 160,
   "id": "a4fb4b69",
   "metadata": {},
   "outputs": [],
   "source": [
    "d=d.mask(d=='?',np.nan)"
   ]
  },
  {
   "cell_type": "code",
   "execution_count": 161,
   "id": "f92cf1a4",
   "metadata": {},
   "outputs": [],
   "source": [
    "prot= pd.to_numeric(d.protein,errors='coerce')\n",
    "d.protein= prot.fillna(prot.mean())\n",
    "\n",
    "fat= pd.to_numeric(d.fat,errors='coerce')\n",
    "d.fat= fat.fillna(fat.mean())\n",
    "\n",
    "sod= pd.to_numeric(d.sodium,errors='coerce')\n",
    "d.sodium= sod.fillna(sod.mean())\n",
    "\n",
    "fib= pd.to_numeric(d.fiber,errors='coerce')\n",
    "d.fiber= fib.fillna(fib.mean())\n",
    "\n",
    "carb= pd.to_numeric(d.carbo,errors='coerce')\n",
    "d.carbo= carb.fillna(carb.mean())\n",
    "\n",
    "sug= pd.to_numeric(d.sugars,errors='coerce')\n",
    "d.sugars= sug.fillna(sug.mean())\n",
    "\n",
    "pot= pd.to_numeric(d.potass,errors='coerce')\n",
    "d.potass= pot.fillna(pot.mean())\n",
    "\n",
    "vit= pd.to_numeric(d.vitamins,errors='coerce')\n",
    "d.vitamins= vit.fillna(vit.mean())"
   ]
  },
  {
   "cell_type": "code",
   "execution_count": 162,
   "id": "a7316cfe",
   "metadata": {},
   "outputs": [],
   "source": [
    "#Q3. Create a table with the 5-number summary of all the numeric attributes after treating \n",
    "#missing values. Do you think the strategy used in dealing with missing values was effective?"
   ]
  },
  {
   "cell_type": "code",
   "execution_count": 163,
   "id": "f37386c9",
   "metadata": {
    "scrolled": true
   },
   "outputs": [
    {
     "data": {
      "text/html": [
       "<div>\n",
       "<style scoped>\n",
       "    .dataframe tbody tr th:only-of-type {\n",
       "        vertical-align: middle;\n",
       "    }\n",
       "\n",
       "    .dataframe tbody tr th {\n",
       "        vertical-align: top;\n",
       "    }\n",
       "\n",
       "    .dataframe thead th {\n",
       "        text-align: right;\n",
       "    }\n",
       "</style>\n",
       "<table border=\"1\" class=\"dataframe\">\n",
       "  <thead>\n",
       "    <tr style=\"text-align: right;\">\n",
       "      <th></th>\n",
       "      <th>protein</th>\n",
       "      <th>fat</th>\n",
       "      <th>sodium</th>\n",
       "      <th>fiber</th>\n",
       "      <th>carbo</th>\n",
       "      <th>sugars</th>\n",
       "      <th>potass</th>\n",
       "      <th>vitamins</th>\n",
       "    </tr>\n",
       "  </thead>\n",
       "  <tbody>\n",
       "    <tr>\n",
       "      <th>count</th>\n",
       "      <td>76.000000</td>\n",
       "      <td>76.000000</td>\n",
       "      <td>76.000000</td>\n",
       "      <td>76.000000</td>\n",
       "      <td>76.000000</td>\n",
       "      <td>76.000000</td>\n",
       "      <td>76.000000</td>\n",
       "      <td>76.000000</td>\n",
       "    </tr>\n",
       "    <tr>\n",
       "      <th>mean</th>\n",
       "      <td>2.526316</td>\n",
       "      <td>1.013158</td>\n",
       "      <td>160.065789</td>\n",
       "      <td>2.048684</td>\n",
       "      <td>14.933333</td>\n",
       "      <td>7.040000</td>\n",
       "      <td>96.216216</td>\n",
       "      <td>28.289474</td>\n",
       "    </tr>\n",
       "    <tr>\n",
       "      <th>std</th>\n",
       "      <td>1.089020</td>\n",
       "      <td>1.013159</td>\n",
       "      <td>84.318813</td>\n",
       "      <td>2.219038</td>\n",
       "      <td>3.737498</td>\n",
       "      <td>4.377031</td>\n",
       "      <td>66.687384</td>\n",
       "      <td>22.487813</td>\n",
       "    </tr>\n",
       "    <tr>\n",
       "      <th>min</th>\n",
       "      <td>1.000000</td>\n",
       "      <td>0.000000</td>\n",
       "      <td>0.000000</td>\n",
       "      <td>0.000000</td>\n",
       "      <td>7.000000</td>\n",
       "      <td>0.000000</td>\n",
       "      <td>15.000000</td>\n",
       "      <td>0.000000</td>\n",
       "    </tr>\n",
       "    <tr>\n",
       "      <th>25%</th>\n",
       "      <td>2.000000</td>\n",
       "      <td>0.000000</td>\n",
       "      <td>132.500000</td>\n",
       "      <td>0.750000</td>\n",
       "      <td>12.000000</td>\n",
       "      <td>3.000000</td>\n",
       "      <td>43.750000</td>\n",
       "      <td>25.000000</td>\n",
       "    </tr>\n",
       "    <tr>\n",
       "      <th>50%</th>\n",
       "      <td>2.500000</td>\n",
       "      <td>1.000000</td>\n",
       "      <td>180.000000</td>\n",
       "      <td>1.750000</td>\n",
       "      <td>14.966667</td>\n",
       "      <td>7.000000</td>\n",
       "      <td>90.000000</td>\n",
       "      <td>25.000000</td>\n",
       "    </tr>\n",
       "    <tr>\n",
       "      <th>75%</th>\n",
       "      <td>3.000000</td>\n",
       "      <td>2.000000</td>\n",
       "      <td>212.500000</td>\n",
       "      <td>3.000000</td>\n",
       "      <td>17.000000</td>\n",
       "      <td>11.000000</td>\n",
       "      <td>120.000000</td>\n",
       "      <td>25.000000</td>\n",
       "    </tr>\n",
       "    <tr>\n",
       "      <th>max</th>\n",
       "      <td>6.000000</td>\n",
       "      <td>5.000000</td>\n",
       "      <td>320.000000</td>\n",
       "      <td>14.000000</td>\n",
       "      <td>23.000000</td>\n",
       "      <td>15.000000</td>\n",
       "      <td>330.000000</td>\n",
       "      <td>100.000000</td>\n",
       "    </tr>\n",
       "  </tbody>\n",
       "</table>\n",
       "</div>"
      ],
      "text/plain": [
       "         protein        fat      sodium      fiber      carbo     sugars  \\\n",
       "count  76.000000  76.000000   76.000000  76.000000  76.000000  76.000000   \n",
       "mean    2.526316   1.013158  160.065789   2.048684  14.933333   7.040000   \n",
       "std     1.089020   1.013159   84.318813   2.219038   3.737498   4.377031   \n",
       "min     1.000000   0.000000    0.000000   0.000000   7.000000   0.000000   \n",
       "25%     2.000000   0.000000  132.500000   0.750000  12.000000   3.000000   \n",
       "50%     2.500000   1.000000  180.000000   1.750000  14.966667   7.000000   \n",
       "75%     3.000000   2.000000  212.500000   3.000000  17.000000  11.000000   \n",
       "max     6.000000   5.000000  320.000000  14.000000  23.000000  15.000000   \n",
       "\n",
       "           potass    vitamins  \n",
       "count   76.000000   76.000000  \n",
       "mean    96.216216   28.289474  \n",
       "std     66.687384   22.487813  \n",
       "min     15.000000    0.000000  \n",
       "25%     43.750000   25.000000  \n",
       "50%     90.000000   25.000000  \n",
       "75%    120.000000   25.000000  \n",
       "max    330.000000  100.000000  "
      ]
     },
     "execution_count": 163,
     "metadata": {},
     "output_type": "execute_result"
    }
   ],
   "source": [
    "d[[\"protein\",\"fat\",\"sodium\",\"fiber\",\"carbo\",\"sugars\",\"potass\",\"vitamins\"]].describe()"
   ]
  },
  {
   "cell_type": "code",
   "execution_count": 164,
   "id": "3fbcbd66",
   "metadata": {},
   "outputs": [],
   "source": [
    "#this is one of the effective strategies for dealing with missing values in a dataset"
   ]
  },
  {
   "cell_type": "code",
   "execution_count": 165,
   "id": "3e723567",
   "metadata": {},
   "outputs": [],
   "source": [
    "#Q4. For each of the numeric attributes (proteins upto vitamins), identify and replace all noisy \n",
    "#data with the median of attribute"
   ]
  },
  {
   "cell_type": "code",
   "execution_count": 166,
   "id": "757b235f",
   "metadata": {},
   "outputs": [],
   "source": [
    "Q1=d[[\"protein\",\"fat\",\"sodium\",\"fiber\",\"carbo\",\"sugars\",\"potass\",\"vitamins\"]].quantile(0.25)"
   ]
  },
  {
   "cell_type": "code",
   "execution_count": 167,
   "id": "fa990a5c",
   "metadata": {
    "scrolled": true
   },
   "outputs": [],
   "source": [
    "Q3=d[[\"protein\",\"fat\",\"sodium\",\"fiber\",\"carbo\",\"sugars\",\"potass\",\"vitamins\"]].quantile(0.75)"
   ]
  },
  {
   "cell_type": "code",
   "execution_count": 168,
   "id": "de82c4c1",
   "metadata": {},
   "outputs": [],
   "source": [
    "Md=d[[\"protein\",\"fat\",\"sodium\",\"fiber\",\"carbo\",\"sugars\",\"potass\",\"vitamins\"]].quantile(0.5)"
   ]
  },
  {
   "cell_type": "code",
   "execution_count": 169,
   "id": "a76ce36b",
   "metadata": {},
   "outputs": [],
   "source": [
    "IQR=Q3-Q1\n",
    "LB=Q1-(1.5*IQR)\n",
    "UB=Q3+(1.5*IQR)"
   ]
  },
  {
   "cell_type": "code",
   "execution_count": 170,
   "id": "9c5fbc88",
   "metadata": {},
   "outputs": [],
   "source": [
    "i=0\n",
    "for column in d[[\"protein\",\"fat\",\"sodium\",\"fiber\",\"carbo\",\"sugars\",\"potass\",\"vitamins\"]]:\n",
    "  d[column]=np.where(d[column]>UB[i], Md[i],d[column])\n",
    "  d[column]=np.where(d[column]<LB[i], Md[i],d[column])\n",
    "  i=i+1"
   ]
  },
  {
   "cell_type": "code",
   "execution_count": 171,
   "id": "c89fa4cf",
   "metadata": {},
   "outputs": [],
   "source": [
    "#Q5. Create a table with the 5-number summary of all the numeric attributes after treating noisy \n",
    "#values. Do you think the strategy used in dealing with noisy values was effective?"
   ]
  },
  {
   "cell_type": "code",
   "execution_count": 172,
   "id": "61538f81",
   "metadata": {},
   "outputs": [
    {
     "data": {
      "text/html": [
       "<div>\n",
       "<style scoped>\n",
       "    .dataframe tbody tr th:only-of-type {\n",
       "        vertical-align: middle;\n",
       "    }\n",
       "\n",
       "    .dataframe tbody tr th {\n",
       "        vertical-align: top;\n",
       "    }\n",
       "\n",
       "    .dataframe thead th {\n",
       "        text-align: right;\n",
       "    }\n",
       "</style>\n",
       "<table border=\"1\" class=\"dataframe\">\n",
       "  <thead>\n",
       "    <tr style=\"text-align: right;\">\n",
       "      <th></th>\n",
       "      <th>protein</th>\n",
       "      <th>fat</th>\n",
       "      <th>sodium</th>\n",
       "      <th>fiber</th>\n",
       "      <th>carbo</th>\n",
       "      <th>sugars</th>\n",
       "      <th>potass</th>\n",
       "      <th>vitamins</th>\n",
       "    </tr>\n",
       "  </thead>\n",
       "  <tbody>\n",
       "    <tr>\n",
       "      <th>count</th>\n",
       "      <td>76.000000</td>\n",
       "      <td>76.000000</td>\n",
       "      <td>76.000000</td>\n",
       "      <td>76.000000</td>\n",
       "      <td>76.000000</td>\n",
       "      <td>76.000000</td>\n",
       "      <td>76.000000</td>\n",
       "      <td>76.0</td>\n",
       "    </tr>\n",
       "    <tr>\n",
       "      <th>mean</th>\n",
       "      <td>2.401316</td>\n",
       "      <td>1.013158</td>\n",
       "      <td>181.381579</td>\n",
       "      <td>1.792105</td>\n",
       "      <td>14.933333</td>\n",
       "      <td>7.040000</td>\n",
       "      <td>85.821479</td>\n",
       "      <td>25.0</td>\n",
       "    </tr>\n",
       "    <tr>\n",
       "      <th>std</th>\n",
       "      <td>0.875670</td>\n",
       "      <td>1.013159</td>\n",
       "      <td>60.186370</td>\n",
       "      <td>1.520220</td>\n",
       "      <td>3.737498</td>\n",
       "      <td>4.377031</td>\n",
       "      <td>48.062504</td>\n",
       "      <td>0.0</td>\n",
       "    </tr>\n",
       "    <tr>\n",
       "      <th>min</th>\n",
       "      <td>1.000000</td>\n",
       "      <td>0.000000</td>\n",
       "      <td>15.000000</td>\n",
       "      <td>0.000000</td>\n",
       "      <td>7.000000</td>\n",
       "      <td>0.000000</td>\n",
       "      <td>15.000000</td>\n",
       "      <td>25.0</td>\n",
       "    </tr>\n",
       "    <tr>\n",
       "      <th>25%</th>\n",
       "      <td>2.000000</td>\n",
       "      <td>0.000000</td>\n",
       "      <td>147.500000</td>\n",
       "      <td>0.750000</td>\n",
       "      <td>12.000000</td>\n",
       "      <td>3.000000</td>\n",
       "      <td>43.750000</td>\n",
       "      <td>25.0</td>\n",
       "    </tr>\n",
       "    <tr>\n",
       "      <th>50%</th>\n",
       "      <td>2.250000</td>\n",
       "      <td>1.000000</td>\n",
       "      <td>180.000000</td>\n",
       "      <td>1.625000</td>\n",
       "      <td>14.966667</td>\n",
       "      <td>7.000000</td>\n",
       "      <td>90.000000</td>\n",
       "      <td>25.0</td>\n",
       "    </tr>\n",
       "    <tr>\n",
       "      <th>75%</th>\n",
       "      <td>3.000000</td>\n",
       "      <td>2.000000</td>\n",
       "      <td>212.500000</td>\n",
       "      <td>3.000000</td>\n",
       "      <td>17.000000</td>\n",
       "      <td>11.000000</td>\n",
       "      <td>110.000000</td>\n",
       "      <td>25.0</td>\n",
       "    </tr>\n",
       "    <tr>\n",
       "      <th>max</th>\n",
       "      <td>4.000000</td>\n",
       "      <td>5.000000</td>\n",
       "      <td>320.000000</td>\n",
       "      <td>6.000000</td>\n",
       "      <td>23.000000</td>\n",
       "      <td>15.000000</td>\n",
       "      <td>230.000000</td>\n",
       "      <td>25.0</td>\n",
       "    </tr>\n",
       "  </tbody>\n",
       "</table>\n",
       "</div>"
      ],
      "text/plain": [
       "         protein        fat      sodium      fiber      carbo     sugars  \\\n",
       "count  76.000000  76.000000   76.000000  76.000000  76.000000  76.000000   \n",
       "mean    2.401316   1.013158  181.381579   1.792105  14.933333   7.040000   \n",
       "std     0.875670   1.013159   60.186370   1.520220   3.737498   4.377031   \n",
       "min     1.000000   0.000000   15.000000   0.000000   7.000000   0.000000   \n",
       "25%     2.000000   0.000000  147.500000   0.750000  12.000000   3.000000   \n",
       "50%     2.250000   1.000000  180.000000   1.625000  14.966667   7.000000   \n",
       "75%     3.000000   2.000000  212.500000   3.000000  17.000000  11.000000   \n",
       "max     4.000000   5.000000  320.000000   6.000000  23.000000  15.000000   \n",
       "\n",
       "           potass  vitamins  \n",
       "count   76.000000      76.0  \n",
       "mean    85.821479      25.0  \n",
       "std     48.062504       0.0  \n",
       "min     15.000000      25.0  \n",
       "25%     43.750000      25.0  \n",
       "50%     90.000000      25.0  \n",
       "75%    110.000000      25.0  \n",
       "max    230.000000      25.0  "
      ]
     },
     "execution_count": 172,
     "metadata": {},
     "output_type": "execute_result"
    }
   ],
   "source": [
    "d[[\"protein\",\"fat\",\"sodium\",\"fiber\",\"carbo\",\"sugars\",\"potass\",\"vitamins\"]].describe()"
   ]
  },
  {
   "cell_type": "code",
   "execution_count": 173,
   "id": "434f6842",
   "metadata": {},
   "outputs": [],
   "source": [
    "#yes its an effective method of dealing with noisy data"
   ]
  },
  {
   "cell_type": "code",
   "execution_count": 174,
   "id": "21970b52",
   "metadata": {},
   "outputs": [],
   "source": [
    "#Q6. Cross tabulate the type of cereal (hot vs cold) against the manufacturer\n"
   ]
  },
  {
   "cell_type": "code",
   "execution_count": 175,
   "id": "437e397d",
   "metadata": {},
   "outputs": [
    {
     "data": {
      "text/html": [
       "<div>\n",
       "<style scoped>\n",
       "    .dataframe tbody tr th:only-of-type {\n",
       "        vertical-align: middle;\n",
       "    }\n",
       "\n",
       "    .dataframe tbody tr th {\n",
       "        vertical-align: top;\n",
       "    }\n",
       "\n",
       "    .dataframe thead th {\n",
       "        text-align: right;\n",
       "    }\n",
       "</style>\n",
       "<table border=\"1\" class=\"dataframe\">\n",
       "  <thead>\n",
       "    <tr style=\"text-align: right;\">\n",
       "      <th>type</th>\n",
       "      <th>C</th>\n",
       "      <th>H</th>\n",
       "    </tr>\n",
       "    <tr>\n",
       "      <th>mfr</th>\n",
       "      <th></th>\n",
       "      <th></th>\n",
       "    </tr>\n",
       "  </thead>\n",
       "  <tbody>\n",
       "    <tr>\n",
       "      <th>A</th>\n",
       "      <td>0</td>\n",
       "      <td>1</td>\n",
       "    </tr>\n",
       "    <tr>\n",
       "      <th>G</th>\n",
       "      <td>22</td>\n",
       "      <td>0</td>\n",
       "    </tr>\n",
       "    <tr>\n",
       "      <th>K</th>\n",
       "      <td>23</td>\n",
       "      <td>0</td>\n",
       "    </tr>\n",
       "    <tr>\n",
       "      <th>N</th>\n",
       "      <td>4</td>\n",
       "      <td>1</td>\n",
       "    </tr>\n",
       "    <tr>\n",
       "      <th>P</th>\n",
       "      <td>9</td>\n",
       "      <td>0</td>\n",
       "    </tr>\n",
       "    <tr>\n",
       "      <th>Q</th>\n",
       "      <td>7</td>\n",
       "      <td>1</td>\n",
       "    </tr>\n",
       "    <tr>\n",
       "      <th>R</th>\n",
       "      <td>8</td>\n",
       "      <td>0</td>\n",
       "    </tr>\n",
       "  </tbody>\n",
       "</table>\n",
       "</div>"
      ],
      "text/plain": [
       "type   C  H\n",
       "mfr        \n",
       "A      0  1\n",
       "G     22  0\n",
       "K     23  0\n",
       "N      4  1\n",
       "P      9  0\n",
       "Q      7  1\n",
       "R      8  0"
      ]
     },
     "execution_count": 175,
     "metadata": {},
     "output_type": "execute_result"
    }
   ],
   "source": [
    "pd.crosstab(d.mfr,d.type)"
   ]
  },
  {
   "cell_type": "code",
   "execution_count": 176,
   "id": "20651924",
   "metadata": {},
   "outputs": [],
   "source": [
    "#Q7. Which is the cereal with the best rating, worst rating?"
   ]
  },
  {
   "cell_type": "code",
   "execution_count": 177,
   "id": "a69e7b74",
   "metadata": {},
   "outputs": [
    {
     "name": "stdout",
     "output_type": "stream",
     "text": [
      "best cereal is: 2    All-BranwithExtraFiber\n",
      "Name: name, dtype: object\n",
      "worst cereal is: 9    CapnCrunch\n",
      "Name: name, dtype: object\n"
     ]
    }
   ],
   "source": [
    "best_rating=d.rating.max()\n",
    "best_cereal=d.loc[d.rating==best_rating,\"name\"]\n",
    "worst_rating=d.rating.min()\n",
    "worst_cereal=d.loc[d.rating==worst_rating,\"name\"]\n",
    "print(\"best cereal is:\",best_cereal)\n",
    "print(\"worst cereal is:\",worst_cereal)\n"
   ]
  },
  {
   "cell_type": "code",
   "execution_count": 178,
   "id": "4dd3d2c3",
   "metadata": {},
   "outputs": [],
   "source": [
    "#Q8. Plot a side-by-side boxplot comparing the consumer rating of hot vs. cold cereals."
   ]
  },
  {
   "cell_type": "code",
   "execution_count": 180,
   "id": "a32ba107",
   "metadata": {},
   "outputs": [
    {
     "name": "stderr",
     "output_type": "stream",
     "text": [
      "C:\\Users\\bhavn\\anaconda3\\lib\\site-packages\\seaborn\\_decorators.py:36: FutureWarning: Pass the following variables as keyword args: x, y. From version 0.12, the only valid positional argument will be `data`, and passing other arguments without an explicit keyword will result in an error or misinterpretation.\n",
      "  warnings.warn(\n"
     ]
    },
    {
     "data": {
      "text/plain": [
       "<AxesSubplot:xlabel='type', ylabel='rating'>"
      ]
     },
     "execution_count": 180,
     "metadata": {},
     "output_type": "execute_result"
    },
    {
     "data": {
      "image/png": "[encoded data removed]",
      "text/plain": [
       "<Figure size 432x288 with 1 Axes>"
      ]
     },
     "metadata": {
      "needs_background": "light"
     },
     "output_type": "display_data"
    }
   ],
   "source": [
    "sbs.boxplot(d.type,d.rating)"
   ]
  },
  {
   "cell_type": "code",
   "execution_count": 181,
   "id": "33191ffe",
   "metadata": {},
   "outputs": [],
   "source": [
    "#Q9. Is there a relation between sugars, calories, carbs, and fat?\n"
   ]
  },
  {
   "cell_type": "code",
   "execution_count": 188,
   "id": "dedd061d",
   "metadata": {},
   "outputs": [
    {
     "data": {
      "text/html": [
       "<div>\n",
       "<style scoped>\n",
       "    .dataframe tbody tr th:only-of-type {\n",
       "        vertical-align: middle;\n",
       "    }\n",
       "\n",
       "    .dataframe tbody tr th {\n",
       "        vertical-align: top;\n",
       "    }\n",
       "\n",
       "    .dataframe thead th {\n",
       "        text-align: right;\n",
       "    }\n",
       "</style>\n",
       "<table border=\"1\" class=\"dataframe\">\n",
       "  <thead>\n",
       "    <tr style=\"text-align: right;\">\n",
       "      <th></th>\n",
       "      <th>sugars</th>\n",
       "      <th>calories</th>\n",
       "      <th>carbo</th>\n",
       "      <th>fat</th>\n",
       "    </tr>\n",
       "  </thead>\n",
       "  <tbody>\n",
       "    <tr>\n",
       "      <th>sugars</th>\n",
       "      <td>1.000000</td>\n",
       "      <td>0.574182</td>\n",
       "      <td>-0.501086</td>\n",
       "      <td>0.300664</td>\n",
       "    </tr>\n",
       "    <tr>\n",
       "      <th>calories</th>\n",
       "      <td>0.574182</td>\n",
       "      <td>1.000000</td>\n",
       "      <td>0.207331</td>\n",
       "      <td>0.510630</td>\n",
       "    </tr>\n",
       "    <tr>\n",
       "      <th>carbo</th>\n",
       "      <td>-0.501086</td>\n",
       "      <td>0.207331</td>\n",
       "      <td>1.000000</td>\n",
       "      <td>-0.311619</td>\n",
       "    </tr>\n",
       "    <tr>\n",
       "      <th>fat</th>\n",
       "      <td>0.300664</td>\n",
       "      <td>0.510630</td>\n",
       "      <td>-0.311619</td>\n",
       "      <td>1.000000</td>\n",
       "    </tr>\n",
       "  </tbody>\n",
       "</table>\n",
       "</div>"
      ],
      "text/plain": [
       "            sugars  calories     carbo       fat\n",
       "sugars    1.000000  0.574182 -0.501086  0.300664\n",
       "calories  0.574182  1.000000  0.207331  0.510630\n",
       "carbo    -0.501086  0.207331  1.000000 -0.311619\n",
       "fat       0.300664  0.510630 -0.311619  1.000000"
      ]
     },
     "execution_count": 188,
     "metadata": {},
     "output_type": "execute_result"
    }
   ],
   "source": [
    "d[[\"sugars\",\"calories\",\"carbo\",\"fat\"]].corr()\n",
    "#sbs.scatterplot(d[[\"sugars\",\"calories\",\"carbo\",\"fat\"]])"
   ]
  },
  {
   "cell_type": "code",
   "execution_count": 189,
   "id": "60dc569c",
   "metadata": {},
   "outputs": [],
   "source": [
    "#sugars and calories,calories and fats are highly correlated. carbo and fat, sugars and carbo are negatively correlated"
   ]
  },
  {
   "cell_type": "code",
   "execution_count": 190,
   "id": "a51e1ef3",
   "metadata": {},
   "outputs": [],
   "source": [
    "#Q10. Which manufacturers produce cereal with highest calories?"
   ]
  },
  {
   "cell_type": "code",
   "execution_count": 191,
   "id": "2a3d60ad",
   "metadata": {},
   "outputs": [
    {
     "data": {
      "text/plain": [
       "45    K\n",
       "Name: mfr, dtype: object"
      ]
     },
     "execution_count": 191,
     "metadata": {},
     "output_type": "execute_result"
    }
   ],
   "source": [
    "d.loc[d[\"calories\"]==d[\"calories\"].max(),\"mfr\"]"
   ]
  },
  {
   "cell_type": "code",
   "execution_count": 192,
   "id": "982d762a",
   "metadata": {},
   "outputs": [],
   "source": [
    "#Q11. Use correlation tests and visualization to identify if the two variables calories and \n",
    "#consumer rating associated?"
   ]
  },
  {
   "cell_type": "code",
   "execution_count": 204,
   "id": "ce9103ba",
   "metadata": {},
   "outputs": [
    {
     "data": {
      "text/plain": [
       "-0.6743584519164881"
      ]
     },
     "execution_count": 204,
     "metadata": {},
     "output_type": "execute_result"
    }
   ],
   "source": [
    "d[\"calories\"].corr(d[\"rating\"])"
   ]
  },
  {
   "cell_type": "code",
   "execution_count": 205,
   "id": "6997fbab",
   "metadata": {},
   "outputs": [
    {
     "name": "stderr",
     "output_type": "stream",
     "text": [
      "C:\\Users\\bhavn\\anaconda3\\lib\\site-packages\\seaborn\\_decorators.py:36: FutureWarning: Pass the following variables as keyword args: x, y. From version 0.12, the only valid positional argument will be `data`, and passing other arguments without an explicit keyword will result in an error or misinterpretation.\n",
      "  warnings.warn(\n"
     ]
    },
    {
     "data": {
      "text/plain": [
       "<AxesSubplot:xlabel='calories', ylabel='rating'>"
      ]
     },
     "execution_count": 205,
     "metadata": {},
     "output_type": "execute_result"
    },
    {
     "data": {
      "image/png": "[encoded data removed]",
      "text/plain": [
       "<Figure size 432x288 with 1 Axes>"
      ]
     },
     "metadata": {
      "needs_background": "light"
     },
     "output_type": "display_data"
    }
   ],
   "source": [
    "sbs.barplot(d.calories,d.rating)"
   ]
  },
  {
   "cell_type": "code",
   "execution_count": 198,
   "id": "4be0cfcf",
   "metadata": {},
   "outputs": [],
   "source": [
    "#generally cereals with high calories seem to have lower ratings"
   ]
  },
  {
   "cell_type": "code",
   "execution_count": 199,
   "id": "a0d5bae5",
   "metadata": {},
   "outputs": [],
   "source": [
    "#Q12. Use correlation tests and visualization to identify if the two variables shelf and calories associated?"
   ]
  },
  {
   "cell_type": "code",
   "execution_count": 206,
   "id": "a36f30f1",
   "metadata": {},
   "outputs": [
    {
     "data": {
      "text/plain": [
       "0.1250085852775354"
      ]
     },
     "execution_count": 206,
     "metadata": {},
     "output_type": "execute_result"
    }
   ],
   "source": [
    "d[\"calories\"].corr(d[\"shelf\"])"
   ]
  },
  {
   "cell_type": "code",
   "execution_count": 207,
   "id": "59d400a9",
   "metadata": {},
   "outputs": [
    {
     "name": "stderr",
     "output_type": "stream",
     "text": [
      "C:\\Users\\bhavn\\anaconda3\\lib\\site-packages\\seaborn\\_decorators.py:36: FutureWarning: Pass the following variables as keyword args: x, y. From version 0.12, the only valid positional argument will be `data`, and passing other arguments without an explicit keyword will result in an error or misinterpretation.\n",
      "  warnings.warn(\n"
     ]
    },
    {
     "data": {
      "text/plain": [
       "<AxesSubplot:xlabel='calories', ylabel='shelf'>"
      ]
     },
     "execution_count": 207,
     "metadata": {},
     "output_type": "execute_result"
    },
    {
     "data": {
      "image/png": "[encoded data removed]",
      "text/plain": [
       "<Figure size 432x288 with 1 Axes>"
      ]
     },
     "metadata": {
      "needs_background": "light"
     },
     "output_type": "display_data"
    }
   ],
   "source": [
    "sbs.barplot(d.calories,d.shelf)"
   ]
  },
  {
   "cell_type": "code",
   "execution_count": 208,
   "id": "ddee7199",
   "metadata": {},
   "outputs": [],
   "source": [
    "#calories and shelf are not very associated, low correlation"
   ]
  },
  {
   "cell_type": "code",
   "execution_count": 209,
   "id": "b6894d3f",
   "metadata": {},
   "outputs": [],
   "source": [
    "#Q13. Is there a relation between manufacturer and rating?\n"
   ]
  },
  {
   "cell_type": "code",
   "execution_count": 217,
   "id": "1bbe8ff5",
   "metadata": {},
   "outputs": [
    {
     "data": {
      "text/html": [
       "<div>\n",
       "<style scoped>\n",
       "    .dataframe tbody tr th:only-of-type {\n",
       "        vertical-align: middle;\n",
       "    }\n",
       "\n",
       "    .dataframe tbody tr th {\n",
       "        vertical-align: top;\n",
       "    }\n",
       "\n",
       "    .dataframe thead th {\n",
       "        text-align: right;\n",
       "    }\n",
       "</style>\n",
       "<table border=\"1\" class=\"dataframe\">\n",
       "  <thead>\n",
       "    <tr style=\"text-align: right;\">\n",
       "      <th>mfr</th>\n",
       "      <th>A</th>\n",
       "      <th>G</th>\n",
       "      <th>K</th>\n",
       "      <th>N</th>\n",
       "      <th>P</th>\n",
       "      <th>Q</th>\n",
       "      <th>R</th>\n",
       "    </tr>\n",
       "    <tr>\n",
       "      <th>rating</th>\n",
       "      <th></th>\n",
       "      <th></th>\n",
       "      <th></th>\n",
       "      <th></th>\n",
       "      <th></th>\n",
       "      <th></th>\n",
       "      <th></th>\n",
       "    </tr>\n",
       "  </thead>\n",
       "  <tbody>\n",
       "    <tr>\n",
       "      <th>18.04</th>\n",
       "      <td>0</td>\n",
       "      <td>0</td>\n",
       "      <td>0</td>\n",
       "      <td>0</td>\n",
       "      <td>0</td>\n",
       "      <td>1</td>\n",
       "      <td>0</td>\n",
       "    </tr>\n",
       "    <tr>\n",
       "      <th>19.82</th>\n",
       "      <td>0</td>\n",
       "      <td>1</td>\n",
       "      <td>0</td>\n",
       "      <td>0</td>\n",
       "      <td>0</td>\n",
       "      <td>0</td>\n",
       "      <td>0</td>\n",
       "    </tr>\n",
       "    <tr>\n",
       "      <th>21.87</th>\n",
       "      <td>0</td>\n",
       "      <td>0</td>\n",
       "      <td>0</td>\n",
       "      <td>0</td>\n",
       "      <td>0</td>\n",
       "      <td>1</td>\n",
       "      <td>0</td>\n",
       "    </tr>\n",
       "    <tr>\n",
       "      <th>22.40</th>\n",
       "      <td>0</td>\n",
       "      <td>1</td>\n",
       "      <td>0</td>\n",
       "      <td>0</td>\n",
       "      <td>0</td>\n",
       "      <td>0</td>\n",
       "      <td>0</td>\n",
       "    </tr>\n",
       "    <tr>\n",
       "      <th>22.74</th>\n",
       "      <td>0</td>\n",
       "      <td>1</td>\n",
       "      <td>0</td>\n",
       "      <td>0</td>\n",
       "      <td>0</td>\n",
       "      <td>0</td>\n",
       "      <td>0</td>\n",
       "    </tr>\n",
       "    <tr>\n",
       "      <th>...</th>\n",
       "      <td>...</td>\n",
       "      <td>...</td>\n",
       "      <td>...</td>\n",
       "      <td>...</td>\n",
       "      <td>...</td>\n",
       "      <td>...</td>\n",
       "      <td>...</td>\n",
       "    </tr>\n",
       "    <tr>\n",
       "      <th>64.53</th>\n",
       "      <td>0</td>\n",
       "      <td>0</td>\n",
       "      <td>0</td>\n",
       "      <td>1</td>\n",
       "      <td>0</td>\n",
       "      <td>0</td>\n",
       "      <td>0</td>\n",
       "    </tr>\n",
       "    <tr>\n",
       "      <th>68.24</th>\n",
       "      <td>0</td>\n",
       "      <td>0</td>\n",
       "      <td>0</td>\n",
       "      <td>1</td>\n",
       "      <td>0</td>\n",
       "      <td>0</td>\n",
       "      <td>0</td>\n",
       "    </tr>\n",
       "    <tr>\n",
       "      <th>72.80</th>\n",
       "      <td>0</td>\n",
       "      <td>0</td>\n",
       "      <td>0</td>\n",
       "      <td>1</td>\n",
       "      <td>0</td>\n",
       "      <td>0</td>\n",
       "      <td>0</td>\n",
       "    </tr>\n",
       "    <tr>\n",
       "      <th>74.47</th>\n",
       "      <td>0</td>\n",
       "      <td>0</td>\n",
       "      <td>0</td>\n",
       "      <td>1</td>\n",
       "      <td>0</td>\n",
       "      <td>0</td>\n",
       "      <td>0</td>\n",
       "    </tr>\n",
       "    <tr>\n",
       "      <th>93.70</th>\n",
       "      <td>0</td>\n",
       "      <td>0</td>\n",
       "      <td>1</td>\n",
       "      <td>0</td>\n",
       "      <td>0</td>\n",
       "      <td>0</td>\n",
       "      <td>0</td>\n",
       "    </tr>\n",
       "  </tbody>\n",
       "</table>\n",
       "<p>76 rows × 7 columns</p>\n",
       "</div>"
      ],
      "text/plain": [
       "mfr     A  G  K  N  P  Q  R\n",
       "rating                     \n",
       "18.04   0  0  0  0  0  1  0\n",
       "19.82   0  1  0  0  0  0  0\n",
       "21.87   0  0  0  0  0  1  0\n",
       "22.40   0  1  0  0  0  0  0\n",
       "22.74   0  1  0  0  0  0  0\n",
       "...    .. .. .. .. .. .. ..\n",
       "64.53   0  0  0  1  0  0  0\n",
       "68.24   0  0  0  1  0  0  0\n",
       "72.80   0  0  0  1  0  0  0\n",
       "74.47   0  0  0  1  0  0  0\n",
       "93.70   0  0  1  0  0  0  0\n",
       "\n",
       "[76 rows x 7 columns]"
      ]
     },
     "execution_count": 217,
     "metadata": {},
     "output_type": "execute_result"
    }
   ],
   "source": [
    "pd.crosstab(d.rating,d.mfr)"
   ]
  },
  {
   "cell_type": "code",
   "execution_count": 214,
   "id": "39a27b37",
   "metadata": {},
   "outputs": [
    {
     "name": "stderr",
     "output_type": "stream",
     "text": [
      "C:\\Users\\bhavn\\anaconda3\\lib\\site-packages\\seaborn\\_decorators.py:36: FutureWarning: Pass the following variables as keyword args: x, y. From version 0.12, the only valid positional argument will be `data`, and passing other arguments without an explicit keyword will result in an error or misinterpretation.\n",
      "  warnings.warn(\n"
     ]
    },
    {
     "data": {
      "text/plain": [
       "<AxesSubplot:xlabel='mfr', ylabel='rating'>"
      ]
     },
     "execution_count": 214,
     "metadata": {},
     "output_type": "execute_result"
    },
    {
     "data": {
      "image/png": "[encoded data removed]",
      "text/plain": [
       "<Figure size 432x288 with 1 Axes>"
      ]
     },
     "metadata": {
      "needs_background": "light"
     },
     "output_type": "display_data"
    }
   ],
   "source": [
    "sbs.boxplot(d.mfr,d.rating)"
   ]
  },
  {
   "cell_type": "code",
   "execution_count": 218,
   "id": "c888bb52",
   "metadata": {},
   "outputs": [],
   "source": [
    "#manufacture N has the most constant ratings even though K has the highest rating value"
   ]
  },
  {
   "cell_type": "code",
   "execution_count": 219,
   "id": "984ea43b",
   "metadata": {},
   "outputs": [],
   "source": [
    "#Q14. Which nutrients are essential for a good rating for a cereal?"
   ]
  },
  {
   "cell_type": "code",
   "execution_count": 221,
   "id": "816b9374",
   "metadata": {},
   "outputs": [
    {
     "data": {
      "text/html": [
       "<div>\n",
       "<style scoped>\n",
       "    .dataframe tbody tr th:only-of-type {\n",
       "        vertical-align: middle;\n",
       "    }\n",
       "\n",
       "    .dataframe tbody tr th {\n",
       "        vertical-align: top;\n",
       "    }\n",
       "\n",
       "    .dataframe thead th {\n",
       "        text-align: right;\n",
       "    }\n",
       "</style>\n",
       "<table border=\"1\" class=\"dataframe\">\n",
       "  <thead>\n",
       "    <tr style=\"text-align: right;\">\n",
       "      <th></th>\n",
       "      <th>rating</th>\n",
       "      <th>protein</th>\n",
       "      <th>fat</th>\n",
       "      <th>sodium</th>\n",
       "      <th>fiber</th>\n",
       "      <th>carbo</th>\n",
       "      <th>sugars</th>\n",
       "      <th>potass</th>\n",
       "      <th>vitamins</th>\n",
       "    </tr>\n",
       "  </thead>\n",
       "  <tbody>\n",
       "    <tr>\n",
       "      <th>rating</th>\n",
       "      <td>1.000000</td>\n",
       "      <td>0.466593</td>\n",
       "      <td>-0.418454</td>\n",
       "      <td>-0.050595</td>\n",
       "      <td>0.335328</td>\n",
       "      <td>0.160938</td>\n",
       "      <td>-0.774194</td>\n",
       "      <td>0.210411</td>\n",
       "      <td>NaN</td>\n",
       "    </tr>\n",
       "    <tr>\n",
       "      <th>protein</th>\n",
       "      <td>0.466593</td>\n",
       "      <td>1.000000</td>\n",
       "      <td>0.226913</td>\n",
       "      <td>-0.120710</td>\n",
       "      <td>0.587843</td>\n",
       "      <td>-0.016296</td>\n",
       "      <td>-0.226812</td>\n",
       "      <td>0.671202</td>\n",
       "      <td>NaN</td>\n",
       "    </tr>\n",
       "    <tr>\n",
       "      <th>fat</th>\n",
       "      <td>-0.418454</td>\n",
       "      <td>0.226913</td>\n",
       "      <td>1.000000</td>\n",
       "      <td>-0.248478</td>\n",
       "      <td>0.135546</td>\n",
       "      <td>-0.311619</td>\n",
       "      <td>0.300664</td>\n",
       "      <td>0.357102</td>\n",
       "      <td>NaN</td>\n",
       "    </tr>\n",
       "    <tr>\n",
       "      <th>sodium</th>\n",
       "      <td>-0.050595</td>\n",
       "      <td>-0.120710</td>\n",
       "      <td>-0.248478</td>\n",
       "      <td>1.000000</td>\n",
       "      <td>-0.124328</td>\n",
       "      <td>0.444669</td>\n",
       "      <td>-0.288453</td>\n",
       "      <td>-0.158369</td>\n",
       "      <td>NaN</td>\n",
       "    </tr>\n",
       "    <tr>\n",
       "      <th>fiber</th>\n",
       "      <td>0.335328</td>\n",
       "      <td>0.587843</td>\n",
       "      <td>0.135546</td>\n",
       "      <td>-0.124328</td>\n",
       "      <td>1.000000</td>\n",
       "      <td>-0.109941</td>\n",
       "      <td>-0.000180</td>\n",
       "      <td>0.791170</td>\n",
       "      <td>NaN</td>\n",
       "    </tr>\n",
       "    <tr>\n",
       "      <th>carbo</th>\n",
       "      <td>0.160938</td>\n",
       "      <td>-0.016296</td>\n",
       "      <td>-0.311619</td>\n",
       "      <td>0.444669</td>\n",
       "      <td>-0.109941</td>\n",
       "      <td>1.000000</td>\n",
       "      <td>-0.501086</td>\n",
       "      <td>-0.093629</td>\n",
       "      <td>NaN</td>\n",
       "    </tr>\n",
       "    <tr>\n",
       "      <th>sugars</th>\n",
       "      <td>-0.774194</td>\n",
       "      <td>-0.226812</td>\n",
       "      <td>0.300664</td>\n",
       "      <td>-0.288453</td>\n",
       "      <td>-0.000180</td>\n",
       "      <td>-0.501086</td>\n",
       "      <td>1.000000</td>\n",
       "      <td>0.029548</td>\n",
       "      <td>NaN</td>\n",
       "    </tr>\n",
       "    <tr>\n",
       "      <th>potass</th>\n",
       "      <td>0.210411</td>\n",
       "      <td>0.671202</td>\n",
       "      <td>0.357102</td>\n",
       "      <td>-0.158369</td>\n",
       "      <td>0.791170</td>\n",
       "      <td>-0.093629</td>\n",
       "      <td>0.029548</td>\n",
       "      <td>1.000000</td>\n",
       "      <td>NaN</td>\n",
       "    </tr>\n",
       "    <tr>\n",
       "      <th>vitamins</th>\n",
       "      <td>NaN</td>\n",
       "      <td>NaN</td>\n",
       "      <td>NaN</td>\n",
       "      <td>NaN</td>\n",
       "      <td>NaN</td>\n",
       "      <td>NaN</td>\n",
       "      <td>NaN</td>\n",
       "      <td>NaN</td>\n",
       "      <td>NaN</td>\n",
       "    </tr>\n",
       "  </tbody>\n",
       "</table>\n",
       "</div>"
      ],
      "text/plain": [
       "            rating   protein       fat    sodium     fiber     carbo  \\\n",
       "rating    1.000000  0.466593 -0.418454 -0.050595  0.335328  0.160938   \n",
       "protein   0.466593  1.000000  0.226913 -0.120710  0.587843 -0.016296   \n",
       "fat      -0.418454  0.226913  1.000000 -0.248478  0.135546 -0.311619   \n",
       "sodium   -0.050595 -0.120710 -0.248478  1.000000 -0.124328  0.444669   \n",
       "fiber     0.335328  0.587843  0.135546 -0.124328  1.000000 -0.109941   \n",
       "carbo     0.160938 -0.016296 -0.311619  0.444669 -0.109941  1.000000   \n",
       "sugars   -0.774194 -0.226812  0.300664 -0.288453 -0.000180 -0.501086   \n",
       "potass    0.210411  0.671202  0.357102 -0.158369  0.791170 -0.093629   \n",
       "vitamins       NaN       NaN       NaN       NaN       NaN       NaN   \n",
       "\n",
       "            sugars    potass  vitamins  \n",
       "rating   -0.774194  0.210411       NaN  \n",
       "protein  -0.226812  0.671202       NaN  \n",
       "fat       0.300664  0.357102       NaN  \n",
       "sodium   -0.288453 -0.158369       NaN  \n",
       "fiber    -0.000180  0.791170       NaN  \n",
       "carbo    -0.501086 -0.093629       NaN  \n",
       "sugars    1.000000  0.029548       NaN  \n",
       "potass    0.029548  1.000000       NaN  \n",
       "vitamins       NaN       NaN       NaN  "
      ]
     },
     "execution_count": 221,
     "metadata": {},
     "output_type": "execute_result"
    }
   ],
   "source": [
    "d[[\"rating\",\"protein\",\"fat\",\"sodium\",\"fiber\",\"carbo\",\"sugars\",\"potass\",\"vitamins\"]].corr()\n"
   ]
  },
  {
   "cell_type": "code",
   "execution_count": 222,
   "id": "1696a934",
   "metadata": {},
   "outputs": [],
   "source": [
    "#rating is most highly correlated with proteins and fibers. hence these are essential for a good rating"
   ]
  },
  {
   "cell_type": "code",
   "execution_count": null,
   "id": "a8408d0f",
   "metadata": {},
   "outputs": [],
   "source": []
  }
 ],
 "metadata": {
  "kernelspec": {
   "display_name": "Python 3 (ipykernel)",
   "language": "python",
   "name": "python3"
  },
  "language_info": {
   "codemirror_mode": {
    "name": "ipython",
    "version": 3
   },
   "file_extension": ".py",
   "mimetype": "text/x-python",
   "name": "python",
   "nbconvert_exporter": "python",
   "pygments_lexer": "ipython3",
   "version": "3.9.12"
  }
 },
 "nbformat": 4,
 "nbformat_minor": 5
}
