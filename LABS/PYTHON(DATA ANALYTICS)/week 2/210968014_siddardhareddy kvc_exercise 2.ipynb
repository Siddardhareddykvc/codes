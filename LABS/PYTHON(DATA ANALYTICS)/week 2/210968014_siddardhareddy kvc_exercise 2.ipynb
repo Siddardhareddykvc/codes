{
 "cells": [
  {
   "cell_type": "code",
   "execution_count": 2,
   "id": "10b18dea",
   "metadata": {},
   "outputs": [],
   "source": [
    "import pandas as pd\n",
    "import numpy as np\n",
    "import warnings\n",
    "warnings.filterwarnings(\"ignore\")"
   ]
  },
  {
   "cell_type": "code",
   "execution_count": 3,
   "id": "f31d874f",
   "metadata": {},
   "outputs": [],
   "source": [
    "data = {  'Rollnumber':['1','2','3','4','5','6','7','8','9','10'],\n",
    "          'Name':['a','b','c','d','e','f','g','h','i','j'],\n",
    "          'Gender':[\"m\",'f','m','f','m','f','m','f','m','f'],\n",
    "          'Marks1':[10,20,30,40,50,60,70,80,90,10],\n",
    "          'Marks2':[20,40,60,80,90,80,40,60,20,10],\n",
    "          'Marks3':[50,30,30,40,60,70,80,90,10,50]\n",
    "        }"
   ]
  },
  {
   "cell_type": "code",
   "execution_count": 4,
   "id": "f875a7d4",
   "metadata": {},
   "outputs": [
    {
     "name": "stdout",
     "output_type": "stream",
     "text": [
      "  Rollnumber Name Gender  Marks1  Marks2  Marks3\n",
      "0          1    a      m      10      20      50\n",
      "1          2    b      f      20      40      30\n",
      "2          3    c      m      30      60      30\n",
      "3          4    d      f      40      80      40\n",
      "4          5    e      m      50      90      60\n",
      "5          6    f      f      60      80      70\n",
      "6          7    g      m      70      40      80\n",
      "7          8    h      f      80      60      90\n",
      "8          9    i      m      90      20      10\n",
      "9         10    j      f      10      10      50\n"
     ]
    }
   ],
   "source": [
    "df = pd.DataFrame(data)\n",
    "print(df)"
   ]
  },
  {
   "cell_type": "code",
   "execution_count": 5,
   "id": "efb75582",
   "metadata": {},
   "outputs": [
    {
     "name": "stdout",
     "output_type": "stream",
     "text": [
      "  Rollnumber Name Gender  Marks1  Marks2  Marks3  Total_Marks\n",
      "0          1    a      m      10      20      50           80\n",
      "1          2    b      f      20      40      30           90\n",
      "2          3    c      m      30      60      30          120\n",
      "3          4    d      f      40      80      40          160\n",
      "4          5    e      m      50      90      60          200\n",
      "5          6    f      f      60      80      70          210\n",
      "6          7    g      m      70      40      80          190\n",
      "7          8    h      f      80      60      90          230\n",
      "8          9    i      m      90      20      10          120\n",
      "9         10    j      f      10      10      50           70\n"
     ]
    }
   ],
   "source": [
    "col_list=list(df)\n",
    "df['Total_Marks']=df[col_list].sum(axis=1)\n",
    "print(df)"
   ]
  },
  {
   "cell_type": "code",
   "execution_count": 6,
   "id": "2f3e25e2",
   "metadata": {},
   "outputs": [
    {
     "name": "stdout",
     "output_type": "stream",
     "text": [
      "minimum marks 10\n"
     ]
    }
   ],
   "source": [
    "min_m1=df['Marks1'].min()\n",
    "print(\"minimum marks\",min_m1)"
   ]
  },
  {
   "cell_type": "code",
   "execution_count": 7,
   "id": "51a63bfb",
   "metadata": {},
   "outputs": [
    {
     "name": "stdout",
     "output_type": "stream",
     "text": [
      "maximum marks 90\n"
     ]
    }
   ],
   "source": [
    "max_m2=df['Marks2'].max()\n",
    "print(\"maximum marks\",max_m2)"
   ]
  },
  {
   "cell_type": "code",
   "execution_count": 8,
   "id": "879a675e",
   "metadata": {},
   "outputs": [
    {
     "name": "stdout",
     "output_type": "stream",
     "text": [
      "average 51.0\n"
     ]
    }
   ],
   "source": [
    "avg_m3=df['Marks3'].mean()\n",
    "print(\"average\",avg_m3)"
   ]
  },
  {
   "cell_type": "code",
   "execution_count": 9,
   "id": "e3592e2d",
   "metadata": {},
   "outputs": [
    {
     "name": "stdout",
     "output_type": "stream",
     "text": [
      "highest average 76.66666666666667\n"
     ]
    }
   ],
   "source": [
    "df['Average']=df[col_list].mean(axis=1)\n",
    "greatest_avg=df['Average'].max()\n",
    "print(\"highest average\",greatest_avg)"
   ]
  },
  {
   "cell_type": "code",
   "execution_count": 10,
   "id": "6713d5ec",
   "metadata": {},
   "outputs": [
    {
     "name": "stdout",
     "output_type": "stream",
     "text": [
      "student got highest average ['h']\n"
     ]
    }
   ],
   "source": [
    "student_greatest_avg=df.loc[df['Average']==greatest_avg,'Name'].tolist()\n",
    "print(\"student got highest average\",student_greatest_avg)"
   ]
  },
  {
   "cell_type": "code",
   "execution_count": 11,
   "id": "da45d3f8",
   "metadata": {},
   "outputs": [
    {
     "name": "stdout",
     "output_type": "stream",
     "text": [
      "failed_students   Rollnumber Name Gender  Marks1  Marks2  Marks3  Total_Marks    Average\n",
      "0          1    a      m      10      20      50           80  26.666667\n",
      "8          9    i      m      90      20      10          120  40.000000\n",
      "9         10    j      f      10      10      50           70  23.333333\n"
     ]
    }
   ],
   "source": [
    "fail=df.loc[df['Marks2']<40]\n",
    "fail['Name'].count()\n",
    "print(\"failed_students\",fail)"
   ]
  }
 ],
 "metadata": {
  "kernelspec": {
   "display_name": "Python 3 (ipykernel)",
   "language": "python",
   "name": "python3"
  },
  "language_info": {
   "codemirror_mode": {
    "name": "ipython",
    "version": 3
   },
   "file_extension": ".py",
   "mimetype": "text/x-python",
   "name": "python",
   "nbconvert_exporter": "python",
   "pygments_lexer": "ipython3",
   "version": "3.9.12"
  }
 },
 "nbformat": 4,
 "nbformat_minor": 5
}
